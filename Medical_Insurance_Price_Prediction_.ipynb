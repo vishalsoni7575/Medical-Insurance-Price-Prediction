{
  "nbformat": 4,
  "nbformat_minor": 0,
  "metadata": {
    "colab": {
      "provenance": []
    },
    "kernelspec": {
      "name": "python3",
      "display_name": "Python 3"
    },
    "language_info": {
      "name": "python"
    }
  },
  "cells": [
    {
      "cell_type": "markdown",
      "source": [
        "#**GATHERING DATA**"
      ],
      "metadata": {
        "id": "dwWSnNJ3RN23"
      }
    },
    {
      "cell_type": "code",
      "execution_count": 1,
      "metadata": {
        "id": "tSaOTabdLrfv"
      },
      "outputs": [],
      "source": [
        "import pandas as pd   #Library for manipualtion and filtering the data.\n",
        "import numpy as np  #Library for scientific computing.\n",
        "import matplotlib.pyplot as plt  #Library for Data visualization.\n",
        "import seaborn as sns \n",
        "import warnings\n",
        "warnings.filterwarnings('ignore')\n",
        "warnings.simplefilter('ignore')"
      ]
    },
    {
      "cell_type": "code",
      "source": [
        "#Importing Insurance Dataset using read_csv in pandas.\n",
        "df = pd.read_csv(\"insurance.csv\")"
      ],
      "metadata": {
        "id": "mQ6XHYRIQFp3"
      },
      "execution_count": 2,
      "outputs": []
    },
    {
      "cell_type": "code",
      "source": [
        "#\"head()\" used to get first 5 rows of dataset.\n",
        "df.head()"
      ],
      "metadata": {
        "colab": {
          "base_uri": "https://localhost:8080/",
          "height": 0
        },
        "id": "n9NBI8n9QO2g",
        "outputId": "bff87c85-0170-4545-b65b-b754916006ec"
      },
      "execution_count": 3,
      "outputs": [
        {
          "output_type": "execute_result",
          "data": {
            "text/plain": [
              "   Age     Sex     BMI  Children Smoker     Region      Charges\n",
              "0   19  female  27.900         0    yes  southwest  16884.92400\n",
              "1   18    male  33.770         1     no  southeast   1725.55230\n",
              "2   28    male  33.000         3     no  southeast   4449.46200\n",
              "3   33    male  22.705         0     no  northwest  21984.47061\n",
              "4   32    male  28.880         0     no  northwest   3866.85520"
            ],
            "text/html": [
              "\n",
              "  <div id=\"df-e498fbb5-c6f0-4102-ac8e-f1fee27aff75\">\n",
              "    <div class=\"colab-df-container\">\n",
              "      <div>\n",
              "<style scoped>\n",
              "    .dataframe tbody tr th:only-of-type {\n",
              "        vertical-align: middle;\n",
              "    }\n",
              "\n",
              "    .dataframe tbody tr th {\n",
              "        vertical-align: top;\n",
              "    }\n",
              "\n",
              "    .dataframe thead th {\n",
              "        text-align: right;\n",
              "    }\n",
              "</style>\n",
              "<table border=\"1\" class=\"dataframe\">\n",
              "  <thead>\n",
              "    <tr style=\"text-align: right;\">\n",
              "      <th></th>\n",
              "      <th>Age</th>\n",
              "      <th>Sex</th>\n",
              "      <th>BMI</th>\n",
              "      <th>Children</th>\n",
              "      <th>Smoker</th>\n",
              "      <th>Region</th>\n",
              "      <th>Charges</th>\n",
              "    </tr>\n",
              "  </thead>\n",
              "  <tbody>\n",
              "    <tr>\n",
              "      <th>0</th>\n",
              "      <td>19</td>\n",
              "      <td>female</td>\n",
              "      <td>27.900</td>\n",
              "      <td>0</td>\n",
              "      <td>yes</td>\n",
              "      <td>southwest</td>\n",
              "      <td>16884.92400</td>\n",
              "    </tr>\n",
              "    <tr>\n",
              "      <th>1</th>\n",
              "      <td>18</td>\n",
              "      <td>male</td>\n",
              "      <td>33.770</td>\n",
              "      <td>1</td>\n",
              "      <td>no</td>\n",
              "      <td>southeast</td>\n",
              "      <td>1725.55230</td>\n",
              "    </tr>\n",
              "    <tr>\n",
              "      <th>2</th>\n",
              "      <td>28</td>\n",
              "      <td>male</td>\n",
              "      <td>33.000</td>\n",
              "      <td>3</td>\n",
              "      <td>no</td>\n",
              "      <td>southeast</td>\n",
              "      <td>4449.46200</td>\n",
              "    </tr>\n",
              "    <tr>\n",
              "      <th>3</th>\n",
              "      <td>33</td>\n",
              "      <td>male</td>\n",
              "      <td>22.705</td>\n",
              "      <td>0</td>\n",
              "      <td>no</td>\n",
              "      <td>northwest</td>\n",
              "      <td>21984.47061</td>\n",
              "    </tr>\n",
              "    <tr>\n",
              "      <th>4</th>\n",
              "      <td>32</td>\n",
              "      <td>male</td>\n",
              "      <td>28.880</td>\n",
              "      <td>0</td>\n",
              "      <td>no</td>\n",
              "      <td>northwest</td>\n",
              "      <td>3866.85520</td>\n",
              "    </tr>\n",
              "  </tbody>\n",
              "</table>\n",
              "</div>\n",
              "      <button class=\"colab-df-convert\" onclick=\"convertToInteractive('df-e498fbb5-c6f0-4102-ac8e-f1fee27aff75')\"\n",
              "              title=\"Convert this dataframe to an interactive table.\"\n",
              "              style=\"display:none;\">\n",
              "        \n",
              "  <svg xmlns=\"http://www.w3.org/2000/svg\" height=\"24px\"viewBox=\"0 0 24 24\"\n",
              "       width=\"24px\">\n",
              "    <path d=\"M0 0h24v24H0V0z\" fill=\"none\"/>\n",
              "    <path d=\"M18.56 5.44l.94 2.06.94-2.06 2.06-.94-2.06-.94-.94-2.06-.94 2.06-2.06.94zm-11 1L8.5 8.5l.94-2.06 2.06-.94-2.06-.94L8.5 2.5l-.94 2.06-2.06.94zm10 10l.94 2.06.94-2.06 2.06-.94-2.06-.94-.94-2.06-.94 2.06-2.06.94z\"/><path d=\"M17.41 7.96l-1.37-1.37c-.4-.4-.92-.59-1.43-.59-.52 0-1.04.2-1.43.59L10.3 9.45l-7.72 7.72c-.78.78-.78 2.05 0 2.83L4 21.41c.39.39.9.59 1.41.59.51 0 1.02-.2 1.41-.59l7.78-7.78 2.81-2.81c.8-.78.8-2.07 0-2.86zM5.41 20L4 18.59l7.72-7.72 1.47 1.35L5.41 20z\"/>\n",
              "  </svg>\n",
              "      </button>\n",
              "      \n",
              "  <style>\n",
              "    .colab-df-container {\n",
              "      display:flex;\n",
              "      flex-wrap:wrap;\n",
              "      gap: 12px;\n",
              "    }\n",
              "\n",
              "    .colab-df-convert {\n",
              "      background-color: #E8F0FE;\n",
              "      border: none;\n",
              "      border-radius: 50%;\n",
              "      cursor: pointer;\n",
              "      display: none;\n",
              "      fill: #1967D2;\n",
              "      height: 32px;\n",
              "      padding: 0 0 0 0;\n",
              "      width: 32px;\n",
              "    }\n",
              "\n",
              "    .colab-df-convert:hover {\n",
              "      background-color: #E2EBFA;\n",
              "      box-shadow: 0px 1px 2px rgba(60, 64, 67, 0.3), 0px 1px 3px 1px rgba(60, 64, 67, 0.15);\n",
              "      fill: #174EA6;\n",
              "    }\n",
              "\n",
              "    [theme=dark] .colab-df-convert {\n",
              "      background-color: #3B4455;\n",
              "      fill: #D2E3FC;\n",
              "    }\n",
              "\n",
              "    [theme=dark] .colab-df-convert:hover {\n",
              "      background-color: #434B5C;\n",
              "      box-shadow: 0px 1px 3px 1px rgba(0, 0, 0, 0.15);\n",
              "      filter: drop-shadow(0px 1px 2px rgba(0, 0, 0, 0.3));\n",
              "      fill: #FFFFFF;\n",
              "    }\n",
              "  </style>\n",
              "\n",
              "      <script>\n",
              "        const buttonEl =\n",
              "          document.querySelector('#df-e498fbb5-c6f0-4102-ac8e-f1fee27aff75 button.colab-df-convert');\n",
              "        buttonEl.style.display =\n",
              "          google.colab.kernel.accessAllowed ? 'block' : 'none';\n",
              "\n",
              "        async function convertToInteractive(key) {\n",
              "          const element = document.querySelector('#df-e498fbb5-c6f0-4102-ac8e-f1fee27aff75');\n",
              "          const dataTable =\n",
              "            await google.colab.kernel.invokeFunction('convertToInteractive',\n",
              "                                                     [key], {});\n",
              "          if (!dataTable) return;\n",
              "\n",
              "          const docLinkHtml = 'Like what you see? Visit the ' +\n",
              "            '<a target=\"_blank\" href=https://colab.research.google.com/notebooks/data_table.ipynb>data table notebook</a>'\n",
              "            + ' to learn more about interactive tables.';\n",
              "          element.innerHTML = '';\n",
              "          dataTable['output_type'] = 'display_data';\n",
              "          await google.colab.output.renderOutput(dataTable, element);\n",
              "          const docLink = document.createElement('div');\n",
              "          docLink.innerHTML = docLinkHtml;\n",
              "          element.appendChild(docLink);\n",
              "        }\n",
              "      </script>\n",
              "    </div>\n",
              "  </div>\n",
              "  "
            ]
          },
          "metadata": {},
          "execution_count": 3
        }
      ]
    },
    {
      "cell_type": "code",
      "source": [
        "df.info()"
      ],
      "metadata": {
        "colab": {
          "base_uri": "https://localhost:8080/"
        },
        "id": "gkN2TvcKQFne",
        "outputId": "0346b2d3-a6c0-40b3-c88a-8ce0fe8c975f"
      },
      "execution_count": 4,
      "outputs": [
        {
          "output_type": "stream",
          "name": "stdout",
          "text": [
            "<class 'pandas.core.frame.DataFrame'>\n",
            "RangeIndex: 1338 entries, 0 to 1337\n",
            "Data columns (total 7 columns):\n",
            " #   Column    Non-Null Count  Dtype  \n",
            "---  ------    --------------  -----  \n",
            " 0   Age       1338 non-null   int64  \n",
            " 1   Sex       1338 non-null   object \n",
            " 2   BMI       1338 non-null   float64\n",
            " 3   Children  1338 non-null   int64  \n",
            " 4   Smoker    1338 non-null   object \n",
            " 5   Region    1338 non-null   object \n",
            " 6   Charges   1338 non-null   float64\n",
            "dtypes: float64(2), int64(2), object(3)\n",
            "memory usage: 73.3+ KB\n"
          ]
        }
      ]
    },
    {
      "cell_type": "code",
      "source": [
        "df.shape"
      ],
      "metadata": {
        "colab": {
          "base_uri": "https://localhost:8080/"
        },
        "id": "yXBB0cqjQFiu",
        "outputId": "d129f53e-4e4c-4df4-9e33-cb3dbc0ae60a"
      },
      "execution_count": 5,
      "outputs": [
        {
          "output_type": "execute_result",
          "data": {
            "text/plain": [
              "(1338, 7)"
            ]
          },
          "metadata": {},
          "execution_count": 5
        }
      ]
    },
    {
      "cell_type": "code",
      "source": [
        "#Extracting out the values count in columns using loop and \"value_counts()\".\n",
        "column_value_count = [\"Sex\", \"Children\", \"Smoker\", \"Region\"]\n",
        "for i in df[column_value_count]:\n",
        "  print(df[i].value_counts())\n",
        "  print(\"\\n---------------------------------\\n\")"
      ],
      "metadata": {
        "colab": {
          "base_uri": "https://localhost:8080/"
        },
        "id": "oUXZx1eySYnf",
        "outputId": "4e31d2a1-ec91-41dd-e047-fdbddee29b77"
      },
      "execution_count": 6,
      "outputs": [
        {
          "output_type": "stream",
          "name": "stdout",
          "text": [
            "male      676\n",
            "female    662\n",
            "Name: Sex, dtype: int64\n",
            "\n",
            "---------------------------------\n",
            "\n",
            "0    574\n",
            "1    324\n",
            "2    240\n",
            "3    157\n",
            "4     25\n",
            "5     18\n",
            "Name: Children, dtype: int64\n",
            "\n",
            "---------------------------------\n",
            "\n",
            "no     1064\n",
            "yes     274\n",
            "Name: Smoker, dtype: int64\n",
            "\n",
            "---------------------------------\n",
            "\n",
            "southeast    364\n",
            "southwest    325\n",
            "northwest    325\n",
            "northeast    324\n",
            "Name: Region, dtype: int64\n",
            "\n",
            "---------------------------------\n",
            "\n"
          ]
        }
      ]
    },
    {
      "cell_type": "markdown",
      "source": [
        "###DATA PRE-PROCESSING"
      ],
      "metadata": {
        "id": "RaIrmFqIg_lx"
      }
    },
    {
      "cell_type": "code",
      "source": [
        "replace_num = {'Sex': {'male' : 0 , 'female' : 1} ,\n",
        "                 'Smoker': {'no': 0 , 'yes' : 1},\n",
        "                   'Region' : {'northwest':0, 'northeast':1,'southeast':2,'southwest':3}\n",
        "               }\n",
        "df.replace(replace_num, inplace = True)"
      ],
      "metadata": {
        "id": "WKcja5c4f-lj"
      },
      "execution_count": 7,
      "outputs": []
    },
    {
      "cell_type": "code",
      "source": [
        "#\"describe()\" used to give statistics for numerical parameteric column.\n",
        "df.describe()"
      ],
      "metadata": {
        "colab": {
          "base_uri": "https://localhost:8080/",
          "height": 0
        },
        "id": "fDziNYzlR-JQ",
        "outputId": "aa03a96a-6a6c-42f7-defd-90da49363aa8"
      },
      "execution_count": 8,
      "outputs": [
        {
          "output_type": "execute_result",
          "data": {
            "text/plain": [
              "               Age          Sex          BMI     Children       Smoker  \\\n",
              "count  1338.000000  1338.000000  1338.000000  1338.000000  1338.000000   \n",
              "mean     39.207025     0.494768    30.663397     1.094918     0.204783   \n",
              "std      14.049960     0.500160     6.098187     1.205493     0.403694   \n",
              "min      18.000000     0.000000    15.960000     0.000000     0.000000   \n",
              "25%      27.000000     0.000000    26.296250     0.000000     0.000000   \n",
              "50%      39.000000     0.000000    30.400000     1.000000     0.000000   \n",
              "75%      51.000000     1.000000    34.693750     2.000000     0.000000   \n",
              "max      64.000000     1.000000    53.130000     5.000000     1.000000   \n",
              "\n",
              "            Region       Charges  \n",
              "count  1338.000000   1338.000000  \n",
              "mean      1.514948  13270.422265  \n",
              "std       1.105572  12110.011237  \n",
              "min       0.000000   1121.873900  \n",
              "25%       1.000000   4740.287150  \n",
              "50%       2.000000   9382.033000  \n",
              "75%       2.000000  16639.912515  \n",
              "max       3.000000  63770.428010  "
            ],
            "text/html": [
              "\n",
              "  <div id=\"df-0c9957ab-af5e-4955-b0cb-a3208ada9ab9\">\n",
              "    <div class=\"colab-df-container\">\n",
              "      <div>\n",
              "<style scoped>\n",
              "    .dataframe tbody tr th:only-of-type {\n",
              "        vertical-align: middle;\n",
              "    }\n",
              "\n",
              "    .dataframe tbody tr th {\n",
              "        vertical-align: top;\n",
              "    }\n",
              "\n",
              "    .dataframe thead th {\n",
              "        text-align: right;\n",
              "    }\n",
              "</style>\n",
              "<table border=\"1\" class=\"dataframe\">\n",
              "  <thead>\n",
              "    <tr style=\"text-align: right;\">\n",
              "      <th></th>\n",
              "      <th>Age</th>\n",
              "      <th>Sex</th>\n",
              "      <th>BMI</th>\n",
              "      <th>Children</th>\n",
              "      <th>Smoker</th>\n",
              "      <th>Region</th>\n",
              "      <th>Charges</th>\n",
              "    </tr>\n",
              "  </thead>\n",
              "  <tbody>\n",
              "    <tr>\n",
              "      <th>count</th>\n",
              "      <td>1338.000000</td>\n",
              "      <td>1338.000000</td>\n",
              "      <td>1338.000000</td>\n",
              "      <td>1338.000000</td>\n",
              "      <td>1338.000000</td>\n",
              "      <td>1338.000000</td>\n",
              "      <td>1338.000000</td>\n",
              "    </tr>\n",
              "    <tr>\n",
              "      <th>mean</th>\n",
              "      <td>39.207025</td>\n",
              "      <td>0.494768</td>\n",
              "      <td>30.663397</td>\n",
              "      <td>1.094918</td>\n",
              "      <td>0.204783</td>\n",
              "      <td>1.514948</td>\n",
              "      <td>13270.422265</td>\n",
              "    </tr>\n",
              "    <tr>\n",
              "      <th>std</th>\n",
              "      <td>14.049960</td>\n",
              "      <td>0.500160</td>\n",
              "      <td>6.098187</td>\n",
              "      <td>1.205493</td>\n",
              "      <td>0.403694</td>\n",
              "      <td>1.105572</td>\n",
              "      <td>12110.011237</td>\n",
              "    </tr>\n",
              "    <tr>\n",
              "      <th>min</th>\n",
              "      <td>18.000000</td>\n",
              "      <td>0.000000</td>\n",
              "      <td>15.960000</td>\n",
              "      <td>0.000000</td>\n",
              "      <td>0.000000</td>\n",
              "      <td>0.000000</td>\n",
              "      <td>1121.873900</td>\n",
              "    </tr>\n",
              "    <tr>\n",
              "      <th>25%</th>\n",
              "      <td>27.000000</td>\n",
              "      <td>0.000000</td>\n",
              "      <td>26.296250</td>\n",
              "      <td>0.000000</td>\n",
              "      <td>0.000000</td>\n",
              "      <td>1.000000</td>\n",
              "      <td>4740.287150</td>\n",
              "    </tr>\n",
              "    <tr>\n",
              "      <th>50%</th>\n",
              "      <td>39.000000</td>\n",
              "      <td>0.000000</td>\n",
              "      <td>30.400000</td>\n",
              "      <td>1.000000</td>\n",
              "      <td>0.000000</td>\n",
              "      <td>2.000000</td>\n",
              "      <td>9382.033000</td>\n",
              "    </tr>\n",
              "    <tr>\n",
              "      <th>75%</th>\n",
              "      <td>51.000000</td>\n",
              "      <td>1.000000</td>\n",
              "      <td>34.693750</td>\n",
              "      <td>2.000000</td>\n",
              "      <td>0.000000</td>\n",
              "      <td>2.000000</td>\n",
              "      <td>16639.912515</td>\n",
              "    </tr>\n",
              "    <tr>\n",
              "      <th>max</th>\n",
              "      <td>64.000000</td>\n",
              "      <td>1.000000</td>\n",
              "      <td>53.130000</td>\n",
              "      <td>5.000000</td>\n",
              "      <td>1.000000</td>\n",
              "      <td>3.000000</td>\n",
              "      <td>63770.428010</td>\n",
              "    </tr>\n",
              "  </tbody>\n",
              "</table>\n",
              "</div>\n",
              "      <button class=\"colab-df-convert\" onclick=\"convertToInteractive('df-0c9957ab-af5e-4955-b0cb-a3208ada9ab9')\"\n",
              "              title=\"Convert this dataframe to an interactive table.\"\n",
              "              style=\"display:none;\">\n",
              "        \n",
              "  <svg xmlns=\"http://www.w3.org/2000/svg\" height=\"24px\"viewBox=\"0 0 24 24\"\n",
              "       width=\"24px\">\n",
              "    <path d=\"M0 0h24v24H0V0z\" fill=\"none\"/>\n",
              "    <path d=\"M18.56 5.44l.94 2.06.94-2.06 2.06-.94-2.06-.94-.94-2.06-.94 2.06-2.06.94zm-11 1L8.5 8.5l.94-2.06 2.06-.94-2.06-.94L8.5 2.5l-.94 2.06-2.06.94zm10 10l.94 2.06.94-2.06 2.06-.94-2.06-.94-.94-2.06-.94 2.06-2.06.94z\"/><path d=\"M17.41 7.96l-1.37-1.37c-.4-.4-.92-.59-1.43-.59-.52 0-1.04.2-1.43.59L10.3 9.45l-7.72 7.72c-.78.78-.78 2.05 0 2.83L4 21.41c.39.39.9.59 1.41.59.51 0 1.02-.2 1.41-.59l7.78-7.78 2.81-2.81c.8-.78.8-2.07 0-2.86zM5.41 20L4 18.59l7.72-7.72 1.47 1.35L5.41 20z\"/>\n",
              "  </svg>\n",
              "      </button>\n",
              "      \n",
              "  <style>\n",
              "    .colab-df-container {\n",
              "      display:flex;\n",
              "      flex-wrap:wrap;\n",
              "      gap: 12px;\n",
              "    }\n",
              "\n",
              "    .colab-df-convert {\n",
              "      background-color: #E8F0FE;\n",
              "      border: none;\n",
              "      border-radius: 50%;\n",
              "      cursor: pointer;\n",
              "      display: none;\n",
              "      fill: #1967D2;\n",
              "      height: 32px;\n",
              "      padding: 0 0 0 0;\n",
              "      width: 32px;\n",
              "    }\n",
              "\n",
              "    .colab-df-convert:hover {\n",
              "      background-color: #E2EBFA;\n",
              "      box-shadow: 0px 1px 2px rgba(60, 64, 67, 0.3), 0px 1px 3px 1px rgba(60, 64, 67, 0.15);\n",
              "      fill: #174EA6;\n",
              "    }\n",
              "\n",
              "    [theme=dark] .colab-df-convert {\n",
              "      background-color: #3B4455;\n",
              "      fill: #D2E3FC;\n",
              "    }\n",
              "\n",
              "    [theme=dark] .colab-df-convert:hover {\n",
              "      background-color: #434B5C;\n",
              "      box-shadow: 0px 1px 3px 1px rgba(0, 0, 0, 0.15);\n",
              "      filter: drop-shadow(0px 1px 2px rgba(0, 0, 0, 0.3));\n",
              "      fill: #FFFFFF;\n",
              "    }\n",
              "  </style>\n",
              "\n",
              "      <script>\n",
              "        const buttonEl =\n",
              "          document.querySelector('#df-0c9957ab-af5e-4955-b0cb-a3208ada9ab9 button.colab-df-convert');\n",
              "        buttonEl.style.display =\n",
              "          google.colab.kernel.accessAllowed ? 'block' : 'none';\n",
              "\n",
              "        async function convertToInteractive(key) {\n",
              "          const element = document.querySelector('#df-0c9957ab-af5e-4955-b0cb-a3208ada9ab9');\n",
              "          const dataTable =\n",
              "            await google.colab.kernel.invokeFunction('convertToInteractive',\n",
              "                                                     [key], {});\n",
              "          if (!dataTable) return;\n",
              "\n",
              "          const docLinkHtml = 'Like what you see? Visit the ' +\n",
              "            '<a target=\"_blank\" href=https://colab.research.google.com/notebooks/data_table.ipynb>data table notebook</a>'\n",
              "            + ' to learn more about interactive tables.';\n",
              "          element.innerHTML = '';\n",
              "          dataTable['output_type'] = 'display_data';\n",
              "          await google.colab.output.renderOutput(dataTable, element);\n",
              "          const docLink = document.createElement('div');\n",
              "          docLink.innerHTML = docLinkHtml;\n",
              "          element.appendChild(docLink);\n",
              "        }\n",
              "      </script>\n",
              "    </div>\n",
              "  </div>\n",
              "  "
            ]
          },
          "metadata": {},
          "execution_count": 8
        }
      ]
    },
    {
      "cell_type": "code",
      "source": [
        "#Defining the correlation between the attributes.\n",
        "corr_df = df.corr()\n",
        "top_corr_fig = corr_df.index\n",
        "plt.figure(figsize=(8,8))\n",
        "sns.heatmap(df[top_corr_fig].corr(), annot=True, cmap =\"RdYlGn\")\n",
        "plt.show()"
      ],
      "metadata": {
        "colab": {
          "base_uri": "https://localhost:8080/",
          "height": 0
        },
        "id": "0YRfB4bZSB4Y",
        "outputId": "b88b8c87-e6f4-48f2-8ac9-5dc2dc400cd4"
      },
      "execution_count": 9,
      "outputs": [
        {
          "output_type": "display_data",
          "data": {
            "text/plain": [
              "<Figure size 800x800 with 2 Axes>"
            ],
            "image/png": "[encoded data removed]"
          },
          "metadata": {}
        }
      ]
    },
    {
      "cell_type": "code",
      "source": [
        "#\"nunique()\" used to distinct values in each column in dataset.\n",
        "df.nunique()"
      ],
      "metadata": {
        "colab": {
          "base_uri": "https://localhost:8080/"
        },
        "id": "fNveRkj1SKBf",
        "outputId": "ec2c0b3f-9f6d-4dd5-eda0-2026d31517fb"
      },
      "execution_count": 10,
      "outputs": [
        {
          "output_type": "execute_result",
          "data": {
            "text/plain": [
              "Age           47\n",
              "Sex            2\n",
              "BMI          548\n",
              "Children       6\n",
              "Smoker         2\n",
              "Region         4\n",
              "Charges     1337\n",
              "dtype: int64"
            ]
          },
          "metadata": {},
          "execution_count": 10
        }
      ]
    },
    {
      "cell_type": "markdown",
      "source": [
        "#**FEATURE ENGINEERING**"
      ],
      "metadata": {
        "id": "B7QHQan_RUDd"
      }
    },
    {
      "cell_type": "markdown",
      "source": [
        "#####Column : BMI"
      ],
      "metadata": {
        "id": "BMhPAdwUWtLh"
      }
    },
    {
      "cell_type": "code",
      "source": [
        "plt.figure(figsize=(26,5))\n",
        "plt.subplot(1,4,1)\n",
        "sns.histplot((df[\"BMI\"]), kde = True)\n",
        "plt.title(\"Histogram Plot : BMI\")\n",
        "\n",
        "plt.subplot(1,4,2)\n",
        "sns.boxplot(df[\"BMI\"])\n",
        "plt.title(\"Boxplot : BMI\")\n",
        "plt.show()\n",
        "\n",
        "print(\"\\nBefore Removing Outliers : \", df[\"BMI\"].skew(),\"\\n\")"
      ],
      "metadata": {
        "colab": {
          "base_uri": "https://localhost:8080/",
          "height": 539
        },
        "id": "LkhTxJQ7QFgP",
        "outputId": "929697d8-973c-4e94-94d6-e190958491c8"
      },
      "execution_count": 11,
      "outputs": [
        {
          "output_type": "display_data",
          "data": {
            "text/plain": [
              "<Figure size 2600x500 with 2 Axes>"
            ],
            "image/png": "[encoded data removed]"
          },
          "metadata": {}
        },
        {
          "output_type": "stream",
          "name": "stdout",
          "text": [
            "\n",
            "Before Removing Outliers :  0.2840471105987448 \n",
            "\n"
          ]
        }
      ]
    },
    {
      "cell_type": "code",
      "source": [
        "q3 = df[\"BMI\"].quantile(0.75)\n",
        "q1 = df[\"BMI\"].quantile(0.25)\n",
        "iqr = q3 - q1\n",
        "upper = q3 + (1.5*iqr)\n",
        "lower = q1 - (1.5*iqr)\n",
        "\n",
        "#Replacing outliers with NAN value.\n",
        "outier = 0\n",
        "for i in df[\"BMI\"]:\n",
        "  if i > upper:\n",
        "    outier+=1\n",
        "    df[\"BMI\"].replace(i,np.nan, inplace = True)\n",
        "print(\"Total rows removed :\",outier,\"\\n\")\n",
        "\n",
        "#As the data is skewed, we will replace NAN value with Median value.\n",
        "from sklearn.impute import SimpleImputer \n",
        "bmi = SimpleImputer(strategy='median') \n",
        "bmi_reshape = np.array(df[\"BMI\"]).reshape(-1, 1)\n",
        "df[\"BMI\"] = bmi.fit_transform(bmi_reshape)\n",
        "\n",
        "print(\"After Removing Outliers : \", df[\"BMI\"].skew(),\"\\n\")\n",
        "sns.histplot(df[\"BMI\"], kde = True)\n",
        "plt.title(\"Histogram Plot(After Removing Outliers) : BMI\")\n",
        "plt.show()"
      ],
      "metadata": {
        "colab": {
          "base_uri": "https://localhost:8080/",
          "height": 541
        },
        "id": "yt9Fa2lMQ14X",
        "outputId": "2be47246-2f0e-4830-a614-97e8c19d8c62"
      },
      "execution_count": 12,
      "outputs": [
        {
          "output_type": "stream",
          "name": "stdout",
          "text": [
            "Total rows removed : 9 \n",
            "\n",
            "After Removing Outliers :  0.15851974406024358 \n",
            "\n"
          ]
        },
        {
          "output_type": "display_data",
          "data": {
            "text/plain": [
              "<Figure size 640x480 with 1 Axes>"
            ],
            "image/png": "[encoded data removed]"
          },
          "metadata": {}
        }
      ]
    },
    {
      "cell_type": "markdown",
      "source": [
        "#**EDA**"
      ],
      "metadata": {
        "id": "JLMungtCdsNf"
      }
    },
    {
      "cell_type": "code",
      "source": [],
      "metadata": {
        "id": "4EuIsRNTdx6Y"
      },
      "execution_count": 12,
      "outputs": []
    },
    {
      "cell_type": "markdown",
      "source": [
        "#**FEATURE SCALING**"
      ],
      "metadata": {
        "id": "atm-KxZfdyzg"
      }
    },
    {
      "cell_type": "code",
      "source": [
        "#Dividing into Independent and Dependent Variable.\n",
        "X = df.drop([\"Charges\"], axis=1)\n",
        "y = df[\"Charges\"]"
      ],
      "metadata": {
        "id": "mwr_gffPd3pn"
      },
      "execution_count": 13,
      "outputs": []
    },
    {
      "cell_type": "code",
      "source": [
        "#Splitting into training and test dataset with 75% and 25% on random state=0.\n",
        "from sklearn.model_selection import train_test_split\n",
        "X_train, X_test, y_train, y_test = train_test_split(X, y, test_size=0.25, random_state=0)"
      ],
      "metadata": {
        "id": "AyeLl_hgd3nP"
      },
      "execution_count": 14,
      "outputs": []
    },
    {
      "cell_type": "code",
      "source": [
        "#Getting the shape of training and test dataset.\n",
        "print(\"Train : \",X_train.shape, y_train.shape)\n",
        "print(\"Test : \",X_test.shape, y_test.shape)"
      ],
      "metadata": {
        "colab": {
          "base_uri": "https://localhost:8080/"
        },
        "id": "sbtbQAeeijSQ",
        "outputId": "f4921431-ec73-4bb3-94ca-998e8be289ac"
      },
      "execution_count": 15,
      "outputs": [
        {
          "output_type": "stream",
          "name": "stdout",
          "text": [
            "Train :  (1003, 6) (1003,)\n",
            "Test :  (335, 6) (335,)\n"
          ]
        }
      ]
    },
    {
      "cell_type": "code",
      "source": [
        "X_train.head()"
      ],
      "metadata": {
        "colab": {
          "base_uri": "https://localhost:8080/",
          "height": 0
        },
        "id": "t5X71uWYijPw",
        "outputId": "d360e6ee-b229-42e3-86b5-8286d82e3bde"
      },
      "execution_count": 16,
      "outputs": [
        {
          "output_type": "execute_result",
          "data": {
            "text/plain": [
              "      Age  Sex    BMI  Children  Smoker  Region\n",
              "1075   32    1  29.59         1       0       2\n",
              "131    61    1  22.04         0       0       1\n",
              "15     19    0  24.60         1       0       3\n",
              "1223   20    1  24.42         0       1       2\n",
              "1137   26    1  22.23         0       0       0"
            ],
            "text/html": [
              "\n",
              "  <div id=\"df-4beced56-a22b-4cf6-8c20-148e526ce142\">\n",
              "    <div class=\"colab-df-container\">\n",
              "      <div>\n",
              "<style scoped>\n",
              "    .dataframe tbody tr th:only-of-type {\n",
              "        vertical-align: middle;\n",
              "    }\n",
              "\n",
              "    .dataframe tbody tr th {\n",
              "        vertical-align: top;\n",
              "    }\n",
              "\n",
              "    .dataframe thead th {\n",
              "        text-align: right;\n",
              "    }\n",
              "</style>\n",
              "<table border=\"1\" class=\"dataframe\">\n",
              "  <thead>\n",
              "    <tr style=\"text-align: right;\">\n",
              "      <th></th>\n",
              "      <th>Age</th>\n",
              "      <th>Sex</th>\n",
              "      <th>BMI</th>\n",
              "      <th>Children</th>\n",
              "      <th>Smoker</th>\n",
              "      <th>Region</th>\n",
              "    </tr>\n",
              "  </thead>\n",
              "  <tbody>\n",
              "    <tr>\n",
              "      <th>1075</th>\n",
              "      <td>32</td>\n",
              "      <td>1</td>\n",
              "      <td>29.59</td>\n",
              "      <td>1</td>\n",
              "      <td>0</td>\n",
              "      <td>2</td>\n",
              "    </tr>\n",
              "    <tr>\n",
              "      <th>131</th>\n",
              "      <td>61</td>\n",
              "      <td>1</td>\n",
              "      <td>22.04</td>\n",
              "      <td>0</td>\n",
              "      <td>0</td>\n",
              "      <td>1</td>\n",
              "    </tr>\n",
              "    <tr>\n",
              "      <th>15</th>\n",
              "      <td>19</td>\n",
              "      <td>0</td>\n",
              "      <td>24.60</td>\n",
              "      <td>1</td>\n",
              "      <td>0</td>\n",
              "      <td>3</td>\n",
              "    </tr>\n",
              "    <tr>\n",
              "      <th>1223</th>\n",
              "      <td>20</td>\n",
              "      <td>1</td>\n",
              "      <td>24.42</td>\n",
              "      <td>0</td>\n",
              "      <td>1</td>\n",
              "      <td>2</td>\n",
              "    </tr>\n",
              "    <tr>\n",
              "      <th>1137</th>\n",
              "      <td>26</td>\n",
              "      <td>1</td>\n",
              "      <td>22.23</td>\n",
              "      <td>0</td>\n",
              "      <td>0</td>\n",
              "      <td>0</td>\n",
              "    </tr>\n",
              "  </tbody>\n",
              "</table>\n",
              "</div>\n",
              "      <button class=\"colab-df-convert\" onclick=\"convertToInteractive('df-4beced56-a22b-4cf6-8c20-148e526ce142')\"\n",
              "              title=\"Convert this dataframe to an interactive table.\"\n",
              "              style=\"display:none;\">\n",
              "        \n",
              "  <svg xmlns=\"http://www.w3.org/2000/svg\" height=\"24px\"viewBox=\"0 0 24 24\"\n",
              "       width=\"24px\">\n",
              "    <path d=\"M0 0h24v24H0V0z\" fill=\"none\"/>\n",
              "    <path d=\"M18.56 5.44l.94 2.06.94-2.06 2.06-.94-2.06-.94-.94-2.06-.94 2.06-2.06.94zm-11 1L8.5 8.5l.94-2.06 2.06-.94-2.06-.94L8.5 2.5l-.94 2.06-2.06.94zm10 10l.94 2.06.94-2.06 2.06-.94-2.06-.94-.94-2.06-.94 2.06-2.06.94z\"/><path d=\"M17.41 7.96l-1.37-1.37c-.4-.4-.92-.59-1.43-.59-.52 0-1.04.2-1.43.59L10.3 9.45l-7.72 7.72c-.78.78-.78 2.05 0 2.83L4 21.41c.39.39.9.59 1.41.59.51 0 1.02-.2 1.41-.59l7.78-7.78 2.81-2.81c.8-.78.8-2.07 0-2.86zM5.41 20L4 18.59l7.72-7.72 1.47 1.35L5.41 20z\"/>\n",
              "  </svg>\n",
              "      </button>\n",
              "      \n",
              "  <style>\n",
              "    .colab-df-container {\n",
              "      display:flex;\n",
              "      flex-wrap:wrap;\n",
              "      gap: 12px;\n",
              "    }\n",
              "\n",
              "    .colab-df-convert {\n",
              "      background-color: #E8F0FE;\n",
              "      border: none;\n",
              "      border-radius: 50%;\n",
              "      cursor: pointer;\n",
              "      display: none;\n",
              "      fill: #1967D2;\n",
              "      height: 32px;\n",
              "      padding: 0 0 0 0;\n",
              "      width: 32px;\n",
              "    }\n",
              "\n",
              "    .colab-df-convert:hover {\n",
              "      background-color: #E2EBFA;\n",
              "      box-shadow: 0px 1px 2px rgba(60, 64, 67, 0.3), 0px 1px 3px 1px rgba(60, 64, 67, 0.15);\n",
              "      fill: #174EA6;\n",
              "    }\n",
              "\n",
              "    [theme=dark] .colab-df-convert {\n",
              "      background-color: #3B4455;\n",
              "      fill: #D2E3FC;\n",
              "    }\n",
              "\n",
              "    [theme=dark] .colab-df-convert:hover {\n",
              "      background-color: #434B5C;\n",
              "      box-shadow: 0px 1px 3px 1px rgba(0, 0, 0, 0.15);\n",
              "      filter: drop-shadow(0px 1px 2px rgba(0, 0, 0, 0.3));\n",
              "      fill: #FFFFFF;\n",
              "    }\n",
              "  </style>\n",
              "\n",
              "      <script>\n",
              "        const buttonEl =\n",
              "          document.querySelector('#df-4beced56-a22b-4cf6-8c20-148e526ce142 button.colab-df-convert');\n",
              "        buttonEl.style.display =\n",
              "          google.colab.kernel.accessAllowed ? 'block' : 'none';\n",
              "\n",
              "        async function convertToInteractive(key) {\n",
              "          const element = document.querySelector('#df-4beced56-a22b-4cf6-8c20-148e526ce142');\n",
              "          const dataTable =\n",
              "            await google.colab.kernel.invokeFunction('convertToInteractive',\n",
              "                                                     [key], {});\n",
              "          if (!dataTable) return;\n",
              "\n",
              "          const docLinkHtml = 'Like what you see? Visit the ' +\n",
              "            '<a target=\"_blank\" href=https://colab.research.google.com/notebooks/data_table.ipynb>data table notebook</a>'\n",
              "            + ' to learn more about interactive tables.';\n",
              "          element.innerHTML = '';\n",
              "          dataTable['output_type'] = 'display_data';\n",
              "          await google.colab.output.renderOutput(dataTable, element);\n",
              "          const docLink = document.createElement('div');\n",
              "          docLink.innerHTML = docLinkHtml;\n",
              "          element.appendChild(docLink);\n",
              "        }\n",
              "      </script>\n",
              "    </div>\n",
              "  </div>\n",
              "  "
            ]
          },
          "metadata": {},
          "execution_count": 16
        }
      ]
    },
    {
      "cell_type": "code",
      "source": [
        "#Importing Standardization from sklearn\n",
        "from sklearn.preprocessing import StandardScaler\n",
        "scaler = StandardScaler()\n",
        "\n",
        "#Using fit_transform to the train data.\n",
        "X_train = scaler.fit_transform(X_train)\n",
        "\n",
        "#\"transform\" only to avoid data leakage.\n",
        "X_test = scaler.transform(X_test)"
      ],
      "metadata": {
        "id": "0Ya1NI4pijN4"
      },
      "execution_count": 17,
      "outputs": []
    },
    {
      "cell_type": "markdown",
      "source": [
        "#**MODEL BUILDING**"
      ],
      "metadata": {
        "id": "tS6pBOO5jHR9"
      }
    },
    {
      "cell_type": "markdown",
      "source": [
        "##**LINEAR REGRESSION**"
      ],
      "metadata": {
        "id": "TG2zmNEy176f"
      }
    },
    {
      "cell_type": "code",
      "source": [
        "#Importing Linear Regression, R2 score, MSE and MAE from sklearn.\n",
        "from sklearn.linear_model import LinearRegression\n",
        "from sklearn.metrics import r2_score, mean_squared_error, mean_absolute_error\n",
        "lr = LinearRegression()\n",
        "\n",
        "#Fitting the training independent and dependent variable to get trained.\n",
        "lr.fit(X_train, y_train)\n",
        "\n",
        "#Predicting the result for the test dataset \"X_train\".\n",
        "y_pred_lr_train = lr.predict(X_train)\n",
        "r2_score_lr_train = r2_score(y_pred_lr_train, y_train)\n",
        "\n",
        "#Predicting the result for the test dataset \"X_test\".\n",
        "y_pred_lr_test = lr.predict(X_test)\n",
        "r2_score_lr_test = r2_score(y_pred_lr_test, y_test)\n",
        "\n",
        "#Getting the MAE and MSE for Linear Regression.\n",
        "rmse_linear = np.sqrt(mean_squared_error(y_pred_lr_test, y_test))\n",
        "mae_linear = mean_absolute_error(y_pred_lr_test, y_test)"
      ],
      "metadata": {
        "id": "_Hurss72jHEV"
      },
      "execution_count": 18,
      "outputs": []
    },
    {
      "cell_type": "code",
      "source": [
        "print('R2_score (train) : {0:.3f}'.format(r2_score_lr_train))\n",
        "print('R2_score (test) : {0:.3f}'.format(r2_score_lr_test))\n",
        "print('RMSE LR : {0:.3f}'.format(rmse_linear))\n",
        "print('MAE LR : {0:.3f}'.format(mae_linear))"
      ],
      "metadata": {
        "colab": {
          "base_uri": "https://localhost:8080/"
        },
        "id": "2EpYEi68mP-U",
        "outputId": "07eb9df8-392f-4e5b-a2f1-a1f3c462b186"
      },
      "execution_count": 19,
      "outputs": [
        {
          "output_type": "stream",
          "name": "stdout",
          "text": [
            "R2_score (train) : 0.633\n",
            "R2_score (test) : 0.722\n",
            "RMSE LR : 5674.379\n",
            "MAE LR : 4027.892\n"
          ]
        }
      ]
    },
    {
      "cell_type": "markdown",
      "source": [
        "##**RANDOM FOREST**"
      ],
      "metadata": {
        "id": "3FWeC-bG2AQu"
      }
    },
    {
      "cell_type": "markdown",
      "source": [
        "#####Baseline Model"
      ],
      "metadata": {
        "id": "F0LLu-ld_nG_"
      }
    },
    {
      "cell_type": "code",
      "source": [
        "#Importing Linear Regression, R2 score, MSE and MAE from sklearn.\n",
        "from sklearn.ensemble import RandomForestRegressor\n",
        "from sklearn.model_selection import GridSearchCV\n",
        "rf = RandomForestRegressor()\n",
        "\n",
        "#Fitting the training independent and dependent variable to get trained.\n",
        "rf.fit(X_train, y_train)\n",
        "\n",
        "#Predicting the result for the test dataset \"X_train\".\n",
        "y_pred_rf_train = rf.predict(X_train)\n",
        "r2_score_rf_train = r2_score(y_pred_rf_train, y_train)\n",
        "\n",
        "#Predicting the result for the test dataset \"X_test\".\n",
        "y_pred_rf_test = rf.predict(X_test)\n",
        "r2_score_rf_test = r2_score(y_pred_rf_test, y_test)\n",
        "\n",
        "#Getting the MAE and MSE for Random Forest Regression.\n",
        "rmse_rf = np.sqrt(mean_squared_error(y_pred_rf_test, y_test))\n",
        "mae_rf = mean_absolute_error(y_pred_rf_test, y_test)"
      ],
      "metadata": {
        "id": "iqYoVjFDlQ-F"
      },
      "execution_count": 20,
      "outputs": []
    },
    {
      "cell_type": "code",
      "source": [
        "print('R2_score (train) : {0:.3f}'.format(r2_score_rf_train))\n",
        "print('R2_score (test) : {0:.3f}'.format(r2_score_rf_test))\n",
        "print('RMSE RF : {0:.3f}'.format(rmse_rf))\n",
        "print('MAE RF : {0:.3f}'.format(mae_rf))"
      ],
      "metadata": {
        "colab": {
          "base_uri": "https://localhost:8080/"
        },
        "id": "fOc4PoADlQ7p",
        "outputId": "1e7c4ae9-6213-4ca2-9255-c4f5c3ea5d42"
      },
      "execution_count": 21,
      "outputs": [
        {
          "output_type": "stream",
          "name": "stdout",
          "text": [
            "R2_score (train) : 0.971\n",
            "R2_score (test) : 0.860\n",
            "RMSE RF : 4544.819\n",
            "MAE RF : 2727.550\n"
          ]
        }
      ]
    },
    {
      "cell_type": "markdown",
      "source": [
        "#####Hypertuned Model"
      ],
      "metadata": {
        "id": "RboEjulG5qg7"
      }
    },
    {
      "cell_type": "code",
      "source": [
        "#Hyper parameter for Random Forest Regressor.\n",
        "param_grid = {\n",
        "    'n_estimators': [100, 300, 500],\n",
        "    'max_depth': [5, 10, 20],\n",
        "    'min_samples_split': [2, 5, 10],\n",
        "    'min_samples_leaf': [1, 2, 4]\n",
        "              }\n",
        "\n",
        "#Defining a variable \"rf_new\" for hypertuned Model.\n",
        "rf_new = RandomForestRegressor(random_state = 42)\n",
        "rf_tune = GridSearchCV(estimator = rf_new, param_grid = param_grid, cv = 5, n_jobs = -1, verbose = 2)\n",
        "\n",
        "#Fitting the training independent and dependent variable to get trained.\n",
        "rf_tune.fit(X_train, y_train)\n",
        "\n",
        "#Selecting the best parameter and best score for tuned model.\n",
        "print(\"Best parameters: \", rf_tune.best_params_)\n",
        "print(\"Best score: \", rf_tune.best_score_)"
      ],
      "metadata": {
        "colab": {
          "base_uri": "https://localhost:8080/"
        },
        "id": "IwhN56-h5qvy",
        "outputId": "24cf9dea-3568-47d6-fd25-249359832aab"
      },
      "execution_count": 22,
      "outputs": [
        {
          "output_type": "stream",
          "name": "stdout",
          "text": [
            "Fitting 5 folds for each of 81 candidates, totalling 405 fits\n",
            "Best parameters:  {'max_depth': 5, 'min_samples_leaf': 4, 'min_samples_split': 10, 'n_estimators': 300}\n",
            "Best score:  0.836789136381855\n"
          ]
        }
      ]
    },
    {
      "cell_type": "code",
      "source": [
        "#Fitting the model.\n",
        "best_rf = RandomForestRegressor(**rf_tune.best_params_, random_state=42)\n",
        "best_rf.fit(X_train, y_train)\n",
        "\n",
        "#Predicting the result for the test dataset \"X_train\".\n",
        "y_pred_rf_tune_train = best_rf.predict(X_train)\n",
        "r2_rf_tune_train = r2_score(y_pred_rf_tune_train, y_train)\n",
        "\n",
        "#Predicting the result for the test dataset \"X_test\".\n",
        "y_pred_rf_tune_test = best_rf.predict(X_test)\n",
        "r2_rf_tune = r2_score(y_pred_rf_tune_test, y_test)\n",
        "\n",
        "#Getting the MAE and MSE for Random Forest Regression Tuned Model.\n",
        "mae_rf_tune = mean_absolute_error(y_pred_rf_tune_test, y_test)\n",
        "rmse_rf_tune = np.sqrt(mean_squared_error(y_pred_rf_tune_test, y_test))"
      ],
      "metadata": {
        "id": "w_eYKEAX7s6y"
      },
      "execution_count": 23,
      "outputs": []
    },
    {
      "cell_type": "code",
      "source": [
        "print(\"Mean Absolute Error:\", mae_rf_tune)\n",
        "print(\"Root Mean Squared Error:\", rmse_rf_tune)\n",
        "print('R-squared score:', r2_rf_tune)"
      ],
      "metadata": {
        "colab": {
          "base_uri": "https://localhost:8080/"
        },
        "id": "2_dBCOBl9TBB",
        "outputId": "9ba8341f-9ed8-4322-f0ae-876f05c1d44f"
      },
      "execution_count": 24,
      "outputs": [
        {
          "output_type": "stream",
          "name": "stdout",
          "text": [
            "Mean Absolute Error: 2395.3599626037626\n",
            "Root Mean Squared Error: 3909.313383660612\n",
            "R-squared score: 0.8933098290641267\n"
          ]
        }
      ]
    },
    {
      "cell_type": "markdown",
      "source": [
        "#**COMPARISION**"
      ],
      "metadata": {
        "id": "gZjAl0QbFhwt"
      }
    },
    {
      "cell_type": "code",
      "source": [
        "models = [\n",
        "          ('Linear Regression', rmse_linear, r2_score_lr_train, r2_score_lr_test),\n",
        "          ('Random Forest Regression', rmse_rf, r2_score_rf_train, r2_score_rf_test),\n",
        "          ('Random Forest Regression (Tuned)', rmse_rf_tune,  r2_rf_tune_train, r2_rf_tune)    \n",
        "         ]\n",
        "\n",
        "predict_table = pd.DataFrame(data = models, columns=['Model', 'RMSE', 'R2_Score(training)', 'R2_Score(test)'], index = None)\n",
        "predict_table.style.hide_index()"
      ],
      "metadata": {
        "colab": {
          "base_uri": "https://localhost:8080/",
          "height": 143
        },
        "id": "W0FEkMaDlQ5F",
        "outputId": "59e20230-16f5-4ebf-9aa3-fadf50c4672e"
      },
      "execution_count": 25,
      "outputs": [
        {
          "output_type": "execute_result",
          "data": {
            "text/plain": [
              "<pandas.io.formats.style.Styler at 0x7fd093f18940>"
            ],
            "text/html": [
              "<style type=\"text/css\">\n",
              "</style>\n",
              "<table id=\"T_eca51\" class=\"dataframe\">\n",
              "  <thead>\n",
              "    <tr>\n",
              "      <th id=\"T_eca51_level0_col0\" class=\"col_heading level0 col0\" >Model</th>\n",
              "      <th id=\"T_eca51_level0_col1\" class=\"col_heading level0 col1\" >RMSE</th>\n",
              "      <th id=\"T_eca51_level0_col2\" class=\"col_heading level0 col2\" >R2_Score(training)</th>\n",
              "      <th id=\"T_eca51_level0_col3\" class=\"col_heading level0 col3\" >R2_Score(test)</th>\n",
              "    </tr>\n",
              "  </thead>\n",
              "  <tbody>\n",
              "    <tr>\n",
              "      <td id=\"T_eca51_row0_col0\" class=\"data row0 col0\" >Linear Regression</td>\n",
              "      <td id=\"T_eca51_row0_col1\" class=\"data row0 col1\" >5674.378558</td>\n",
              "      <td id=\"T_eca51_row0_col2\" class=\"data row0 col2\" >0.633092</td>\n",
              "      <td id=\"T_eca51_row0_col3\" class=\"data row0 col3\" >0.722052</td>\n",
              "    </tr>\n",
              "    <tr>\n",
              "      <td id=\"T_eca51_row1_col0\" class=\"data row1 col0\" >Random Forest Regression</td>\n",
              "      <td id=\"T_eca51_row1_col1\" class=\"data row1 col1\" >4544.819473</td>\n",
              "      <td id=\"T_eca51_row1_col2\" class=\"data row1 col2\" >0.971464</td>\n",
              "      <td id=\"T_eca51_row1_col3\" class=\"data row1 col3\" >0.859562</td>\n",
              "    </tr>\n",
              "    <tr>\n",
              "      <td id=\"T_eca51_row2_col0\" class=\"data row2 col0\" >Random Forest Regression (Tuned)</td>\n",
              "      <td id=\"T_eca51_row2_col1\" class=\"data row2 col1\" >3909.313384</td>\n",
              "      <td id=\"T_eca51_row2_col2\" class=\"data row2 col2\" >0.851452</td>\n",
              "      <td id=\"T_eca51_row2_col3\" class=\"data row2 col3\" >0.893310</td>\n",
              "    </tr>\n",
              "  </tbody>\n",
              "</table>\n"
            ]
          },
          "metadata": {},
          "execution_count": 25
        }
      ]
    },
    {
      "cell_type": "markdown",
      "source": [
        "**CONCLUSION**\n",
        "* The B"
      ],
      "metadata": {
        "id": "deCxSWONPb74"
      }
    },
    {
      "cell_type": "markdown",
      "source": [
        "#**DEPLOYEMENT**"
      ],
      "metadata": {
        "id": "FqSqulcq4GDk"
      }
    },
    {
      "cell_type": "code",
      "source": [
        "import pickle\n",
        "\n",
        "Pkl_Filename = \"rf_insurance.pkl\"  \n",
        "\n",
        "with open(Pkl_Filename, 'wb') as file:  \n",
        "    pickle.dump(best_rf, file)"
      ],
      "metadata": {
        "id": "POCW5J5SlQ2m"
      },
      "execution_count": 26,
      "outputs": []
    }
  ]
}